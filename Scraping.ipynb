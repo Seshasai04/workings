{
 "cells": [
  {
   "cell_type": "code",
   "execution_count": 1,
   "id": "30c8a4a9",
   "metadata": {},
   "outputs": [],
   "source": [
    "import pandas as pd\n",
    "import requests\n",
    "from bs4 import BeautifulSoup"
   ]
  },
  {
   "cell_type": "code",
   "execution_count": 10,
   "id": "d0909da3",
   "metadata": {},
   "outputs": [],
   "source": [
    "base_url = 'https://pricebaba.com/laptop/pricelist/all-laptops-sold-in-india'\n",
    "\n",
    "no_pages = 50\n",
    "\n",
    "urls = []\n",
    "price = []\n",
    "\n",
    "for pg in range(51,no_pages +1):\n",
    "    pg_url = f\"{base_url}?page={pg}\"\n",
    "    response = requests.get(pg_url)\n",
    "    if response.status_code == 200:\n",
    "        soup = BeautifulSoup(response.content, 'html.parser')\n",
    "        prc = soup.find_all('span', class_ = 'd-block txt-al-c')\n",
    "        redirect = soup.find_all('span', class_ = 'btn btn--primary btn--bordered seePrices w-100 txt-al-c target_link')\n",
    "        url_in_pg = [redit['data-href'] for redit in redirect]\n",
    "        cost = [pc.text.strip() for pc in prc]\n",
    "        urls.extend(url_in_pg)\n",
    "        price.extend(cost)\n",
    "    else:\n",
    "        print(f\"failed to fetch page{pg}\")"
   ]
  },
  {
   "cell_type": "code",
   "execution_count": 6,
   "id": "2ec7bf2f",
   "metadata": {},
   "outputs": [],
   "source": [
    "data = []"
   ]
  },
  {
   "cell_type": "code",
   "execution_count": 7,
   "id": "435c6204",
   "metadata": {},
   "outputs": [
    {
     "ename": "IndexError",
     "evalue": "list index out of range",
     "output_type": "error",
     "traceback": [
      "\u001b[0;31m---------------------------------------------------------------------------\u001b[0m",
      "\u001b[0;31mIndexError\u001b[0m                                Traceback (most recent call last)",
      "Cell \u001b[0;32mIn[7], line 2\u001b[0m\n\u001b[1;32m      1\u001b[0m \u001b[38;5;28;01mfor\u001b[39;00m i \u001b[38;5;129;01min\u001b[39;00m \u001b[38;5;28mrange\u001b[39m(\u001b[38;5;241m1\u001b[39m,\u001b[38;5;241m200\u001b[39m):\n\u001b[0;32m----> 2\u001b[0m     info \u001b[38;5;241m=\u001b[39m requests\u001b[38;5;241m.\u001b[39mget(urls[i])\n\u001b[1;32m      3\u001b[0m     sp \u001b[38;5;241m=\u001b[39m BeautifulSoup(info\u001b[38;5;241m.\u001b[39mcontent, \u001b[38;5;124m'\u001b[39m\u001b[38;5;124mlxml\u001b[39m\u001b[38;5;124m'\u001b[39m)\n\u001b[1;32m      4\u001b[0m     laptop_titles \u001b[38;5;241m=\u001b[39m sp\u001b[38;5;241m.\u001b[39mfind(\u001b[38;5;124m'\u001b[39m\u001b[38;5;124mh1\u001b[39m\u001b[38;5;124m'\u001b[39m, class_ \u001b[38;5;241m=\u001b[39m \u001b[38;5;124m'\u001b[39m\u001b[38;5;124mtxt-wt-b txt-xl\u001b[39m\u001b[38;5;124m'\u001b[39m)\u001b[38;5;241m.\u001b[39mtext\u001b[38;5;241m.\u001b[39mstrip()\n",
      "\u001b[0;31mIndexError\u001b[0m: list index out of range"
     ]
    }
   ],
   "source": [
    "for i in range(1,200):\n",
    "    info = requests.get(urls[i])\n",
    "    sp = BeautifulSoup(info.content, 'lxml')\n",
    "    laptop_titles = sp.find('h1', class_ = 'txt-wt-b txt-xl').text.strip()\n",
    "    spec_titles = sp.find_all('td', class_ = 'p-h-m p-v-xs w-40 txt-clr-jumbo')\n",
    "    spec_values = sp.find_all('td', class_ = 'p-h-m p-v-xs w-60')\n",
    "    specification = {}\n",
    "    for spec_tit, spec_val in zip(spec_titles, spec_values):\n",
    "        temp1 = spec_tit.text.strip()\n",
    "        temp2 = spec_val.text.strip()\n",
    "        specification[temp1] = temp2\n",
    "    data.append((laptop_titles, specification, price[i], urls[i]))"
   ]
  },
  {
   "cell_type": "code",
   "execution_count": null,
   "id": "53213581",
   "metadata": {},
   "outputs": [],
   "source": [
    "df = pd.DataFrame(data)"
   ]
  },
  {
   "cell_type": "code",
   "execution_count": null,
   "id": "8f77397e",
   "metadata": {},
   "outputs": [],
   "source": [
    "df.to_csv('/Users/apple/Desktop/Projects/laptop_price.csv')"
   ]
  },
  {
   "cell_type": "code",
   "execution_count": null,
   "id": "2984a69f",
   "metadata": {},
   "outputs": [],
   "source": []
  }
 ],
 "metadata": {
  "kernelspec": {
   "display_name": "Python 3 (ipykernel)",
   "language": "python",
   "name": "python3"
  },
  "language_info": {
   "codemirror_mode": {
    "name": "ipython",
    "version": 3
   },
   "file_extension": ".py",
   "mimetype": "text/x-python",
   "name": "python",
   "nbconvert_exporter": "python",
   "pygments_lexer": "ipython3",
   "version": "3.11.3"
  }
 },
 "nbformat": 4,
 "nbformat_minor": 5
}
